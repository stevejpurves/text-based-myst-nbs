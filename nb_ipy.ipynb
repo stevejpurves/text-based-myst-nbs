{
 "cells": [
  {
   "cell_type": "markdown",
   "id": "df9074f7-d158-461d-ad62-e2bdf77ef36b",
   "metadata": {},
   "source": [
    "# ipynb case\n",
    "\n",
    "this is markdown"
   ]
  },
  {
   "cell_type": "raw",
   "id": "15ce6ccb-f711-4c00-85ad-c2640b5d6a89",
   "metadata": {},
   "source": [
    "THIS IS RAW"
   ]
  },
  {
   "cell_type": "code",
   "execution_count": 1,
   "id": "45b870e3-e5f7-44f0-b575-7821682534f7",
   "metadata": {},
   "outputs": [
    {
     "data": {
      "text/plain": [
       "'1.26.2'"
      ]
     },
     "execution_count": 1,
     "metadata": {},
     "output_type": "execute_result"
    }
   ],
   "source": [
    "import numpy as np\n",
    "np.__version__"
   ]
  },
  {
   "cell_type": "code",
   "execution_count": 2,
   "id": "54e05c97-101d-460f-aa02-b63c73de5da5",
   "metadata": {},
   "outputs": [
    {
     "data": {
      "text/plain": [
       "array([0, 1])"
      ]
     },
     "execution_count": 2,
     "metadata": {},
     "output_type": "execute_result"
    }
   ],
   "source": [
    "a = np.arange(4).reshape((2,2))\n",
    "np.min(a, axis=0)"
   ]
  },
  {
   "cell_type": "code",
   "execution_count": null,
   "id": "48a6cc4a-df45-4d55-b00d-f62a8dce7d19",
   "metadata": {},
   "outputs": [],
   "source": []
  }
 ],
 "metadata": {
  "kernelspec": {
   "display_name": "Python 3 (ipykernel)",
   "language": "python",
   "name": "python3"
  },
  "language_info": {
   "codemirror_mode": {
    "name": "ipython",
    "version": 3
   },
   "file_extension": ".py",
   "mimetype": "text/x-python",
   "name": "python",
   "nbconvert_exporter": "python",
   "pygments_lexer": "ipython3",
   "version": "3.11.6"
  }
 },
 "nbformat": 4,
 "nbformat_minor": 5
}
